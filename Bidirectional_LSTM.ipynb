{
  "nbformat": 4,
  "nbformat_minor": 0,
  "metadata": {
    "colab": {
      "name": "Bidirectional_LSTM",
      "provenance": [],
      "collapsed_sections": [],
      "authorship_tag": "ABX9TyMvgPeIR83kwgmR/VYpyRlu",
      "include_colab_link": true
    },
    "kernelspec": {
      "name": "python3",
      "display_name": "Python 3"
    },
    "accelerator": "GPU"
  },
  "cells": [
    {
      "cell_type": "markdown",
      "metadata": {
        "id": "view-in-github",
        "colab_type": "text"
      },
      "source": [
        "<a href=\"https://colab.research.google.com/github/yahdiindrawan/covid19-forecasting-system/blob/master/Bidirectional_LSTM.ipynb\" target=\"_parent\"><img src=\"https://colab.research.google.com/assets/colab-badge.svg\" alt=\"Open In Colab\"/></a>"
      ]
    },
    {
      "cell_type": "code",
      "metadata": {
        "id": "5GUY_753RN6H",
        "colab_type": "code",
        "colab": {}
      },
      "source": [
        "# univariate bidirectional lstm example\n",
        "from numpy import array\n",
        "from matplotlib import pyplot as plt\n",
        "import pandas as pd \n",
        "import tensorflow as tf"
      ],
      "execution_count": 0,
      "outputs": []
    },
    {
      "cell_type": "code",
      "metadata": {
        "id": "DVGLJyJpRa2g",
        "colab_type": "code",
        "colab": {}
      },
      "source": [
        "# split a univariate sequence\n",
        "def split_sequence(sequence, n_steps):\n",
        "\tX, y = list(), list()\n",
        "\tfor i in range(len(sequence)):\n",
        "\t\t# find the end of this pattern\n",
        "\t\tend_ix = i + n_steps\n",
        "\t\t# check if we are beyond the sequence\n",
        "\t\tif end_ix > len(sequence)-1:\n",
        "\t\t\tbreak\n",
        "\t\t# gather input and output parts of the pattern\n",
        "\t\tseq_x, seq_y = sequence[i:end_ix], sequence[end_ix]\n",
        "\t\tX.append(seq_x)\n",
        "\t\ty.append(seq_y)\n",
        "\treturn array(X), array(y)\n",
        " "
      ],
      "execution_count": 0,
      "outputs": []
    },
    {
      "cell_type": "code",
      "metadata": {
        "id": "Tp9jdRsdRjSU",
        "colab_type": "code",
        "colab": {
          "base_uri": "https://localhost:8080/",
          "height": 421
        },
        "outputId": "4456d588-7aaf-4f44-ae7b-1266c4205a57"
      },
      "source": [
        "df = pd.read_csv('covid19_dataset.csv', index_col='Date')\n",
        "print(df.head())\n",
        "df.plot()"
      ],
      "execution_count": 5,
      "outputs": [
        {
          "output_type": "stream",
          "text": [
            "            Confirmed  Death  Recovered\n",
            "Date                                   \n",
            "22/01/2020        555     17         28\n",
            "23/01/2020        653     18         30\n",
            "24/01/2020        941     26         36\n",
            "25/01/2020       1434     42         39\n",
            "26/01/2020       2118     56         52\n"
          ],
          "name": "stdout"
        },
        {
          "output_type": "execute_result",
          "data": {
            "text/plain": [
              "<matplotlib.axes._subplots.AxesSubplot at 0x7fb03f387dd8>"
            ]
          },
          "metadata": {
            "tags": []
          },
          "execution_count": 5
        },
        {
          "output_type": "display_data",
          "data": {
            "image/png": "[encoded data removed]",
            "text/plain": [
              "<Figure size 432x288 with 1 Axes>"
            ]
          },
          "metadata": {
            "tags": []
          }
        }
      ]
    },
    {
      "cell_type": "code",
      "metadata": {
        "id": "znlM5gOCSCK9",
        "colab_type": "code",
        "colab": {}
      },
      "source": [
        "raw_seq = []\n",
        "for i in range(len(df.Death)):\n",
        "  raw_seq.append(df.Death[i])"
      ],
      "execution_count": 0,
      "outputs": []
    },
    {
      "cell_type": "code",
      "metadata": {
        "id": "eszAPwjESNDw",
        "colab_type": "code",
        "colab": {
          "base_uri": "https://localhost:8080/",
          "height": 54
        },
        "outputId": "cbee44db-f8aa-4d81-f6db-2f5cfbc6e3a8"
      },
      "source": [
        "print(raw_seq)"
      ],
      "execution_count": 13,
      "outputs": [
        {
          "output_type": "stream",
          "text": [
            "[17, 18, 26, 42, 56, 82, 131, 133, 171, 213, 259, 362, 426, 492, 564, 634, 719, 806, 906, 1013, 1113, 1118, 1371, 1523, 1666, 1770, 1868, 2007, 2122, 2247, 2251, 2458, 2469, 2629, 2708, 2770, 2814, 2872, 2941, 2996, 3085, 3160, 3254, 3348, 3460, 3558, 3802, 3988, 4262, 4615, 4720, 5404, 5819, 6440, 7126, 7905, 8733, 9867, 11299]\n"
          ],
          "name": "stdout"
        }
      ]
    },
    {
      "cell_type": "code",
      "metadata": {
        "id": "zzd6KyFQSrIJ",
        "colab_type": "code",
        "colab": {}
      },
      "source": [
        "# choose a number of time steps\n",
        "n_steps = 3"
      ],
      "execution_count": 0,
      "outputs": []
    },
    {
      "cell_type": "code",
      "metadata": {
        "id": "pO6XhHZ5Svz9",
        "colab_type": "code",
        "colab": {}
      },
      "source": [
        "# split into samples\n",
        "X, y = split_sequence(raw_seq, n_steps)"
      ],
      "execution_count": 0,
      "outputs": []
    },
    {
      "cell_type": "code",
      "metadata": {
        "id": "5eSx6QwrS1go",
        "colab_type": "code",
        "colab": {}
      },
      "source": [
        "n_features = 1\n",
        "X = X.reshape((X.shape[0], X.shape[1], n_features))"
      ],
      "execution_count": 0,
      "outputs": []
    },
    {
      "cell_type": "code",
      "metadata": {
        "id": "XDAwqsgKS3iU",
        "colab_type": "code",
        "colab": {
          "base_uri": "https://localhost:8080/",
          "height": 90
        },
        "outputId": "4ff77d70-2399-4ace-e0c8-c34eda496df3"
      },
      "source": [
        "# define model\n",
        "model = tf.keras.Sequential()\n",
        "model.add(tf.keras.layers.Bidirectional(tf.keras.layers.LSTM(50, activation='relu'), input_shape=(n_steps, n_features)))\n",
        "model.add(tf.keras.layers.Dense(1))\n",
        "model.compile(optimizer='adam', loss='mse')"
      ],
      "execution_count": 18,
      "outputs": [
        {
          "output_type": "stream",
          "text": [
            "WARNING:tensorflow:Layer lstm will not use cuDNN kernel since it doesn't meet the cuDNN kernel criteria. It will use generic GPU kernel as fallback when running on GPU\n",
            "WARNING:tensorflow:Layer lstm will not use cuDNN kernel since it doesn't meet the cuDNN kernel criteria. It will use generic GPU kernel as fallback when running on GPU\n",
            "WARNING:tensorflow:Layer lstm will not use cuDNN kernel since it doesn't meet the cuDNN kernel criteria. It will use generic GPU kernel as fallback when running on GPU\n"
          ],
          "name": "stdout"
        }
      ]
    },
    {
      "cell_type": "code",
      "metadata": {
        "id": "qsp2BgTGS6Kb",
        "colab_type": "code",
        "colab": {
          "base_uri": "https://localhost:8080/",
          "height": 34
        },
        "outputId": "418c1ef9-7253-416f-c4ad-ee8188a0d2b6"
      },
      "source": [
        "# fit model\n",
        "model.fit(X, y, epochs=200, verbose=0)"
      ],
      "execution_count": 19,
      "outputs": [
        {
          "output_type": "execute_result",
          "data": {
            "text/plain": [
              "<tensorflow.python.keras.callbacks.History at 0x7fafb0591c88>"
            ]
          },
          "metadata": {
            "tags": []
          },
          "execution_count": 19
        }
      ]
    },
    {
      "cell_type": "code",
      "metadata": {
        "id": "L0nYErmzS-f8",
        "colab_type": "code",
        "colab": {}
      },
      "source": [
        "length = len(raw_seq)"
      ],
      "execution_count": 0,
      "outputs": []
    },
    {
      "cell_type": "code",
      "metadata": {
        "id": "VSWRzIW7THSB",
        "colab_type": "code",
        "colab": {
          "base_uri": "https://localhost:8080/",
          "height": 34
        },
        "outputId": "f683b3aa-6a0d-42c6-c78f-9bc73763227a"
      },
      "source": [
        "x_input = array([raw_seq[length-3], raw_seq[length-2], raw_seq[length-1]])\n",
        "x_input = x_input.reshape((1, n_steps, n_features))\n",
        "yhat = model.predict(x_input, verbose=0)\n",
        "print(yhat[0][0])"
      ],
      "execution_count": 46,
      "outputs": [
        {
          "output_type": "stream",
          "text": [
            "11826.888\n"
          ],
          "name": "stdout"
        }
      ]
    },
    {
      "cell_type": "code",
      "metadata": {
        "id": "ZFaxboFoTJSJ",
        "colab_type": "code",
        "colab": {
          "base_uri": "https://localhost:8080/",
          "height": 52
        },
        "outputId": "ad3f01e1-1d0b-4b45-9787-31e46be354d3"
      },
      "source": [
        "last_death = raw_seq[length-1]\n",
        "predict = yhat\n",
        "print(last_death)\n",
        "print(predict)"
      ],
      "execution_count": 47,
      "outputs": [
        {
          "output_type": "stream",
          "text": [
            "11299\n",
            "[[11826.888]]\n"
          ],
          "name": "stdout"
        }
      ]
    },
    {
      "cell_type": "code",
      "metadata": {
        "id": "DYiPCWfYT5Ma",
        "colab_type": "code",
        "colab": {}
      },
      "source": [
        "#Kenaikan kematian tiap hari\n",
        "kenaikan = []\n",
        "for i in range(len(df.Death)-1):\n",
        "  kenaikan.append(df.Death[i+1]-df.Death[i])"
      ],
      "execution_count": 0,
      "outputs": []
    },
    {
      "cell_type": "code",
      "metadata": {
        "id": "13t6onzoVPmc",
        "colab_type": "code",
        "colab": {
          "base_uri": "https://localhost:8080/",
          "height": 54
        },
        "outputId": "1da9923c-1d7a-4068-edb3-9edcdfd035e2"
      },
      "source": [
        "print(kenaikan)"
      ],
      "execution_count": 49,
      "outputs": [
        {
          "output_type": "stream",
          "text": [
            "[1, 8, 16, 14, 26, 49, 2, 38, 42, 46, 103, 64, 66, 72, 70, 85, 87, 100, 107, 100, 5, 253, 152, 143, 104, 98, 139, 115, 125, 4, 207, 11, 160, 79, 62, 44, 58, 69, 55, 89, 75, 94, 94, 112, 98, 244, 186, 274, 353, 105, 684, 415, 621, 686, 779, 828, 1134, 1432]\n"
          ],
          "name": "stdout"
        }
      ]
    },
    {
      "cell_type": "code",
      "metadata": {
        "id": "Np62J4h7VRhV",
        "colab_type": "code",
        "colab": {
          "base_uri": "https://localhost:8080/",
          "height": 34
        },
        "outputId": "fbaeae72-8b60-40fe-e1dc-76e1f7003eaa"
      },
      "source": [
        "kenaikan_prediksi = predict - last_death\n",
        "print(kenaikan_prediksi)"
      ],
      "execution_count": 50,
      "outputs": [
        {
          "output_type": "stream",
          "text": [
            "[[527.8877]]\n"
          ],
          "name": "stdout"
        }
      ]
    },
    {
      "cell_type": "code",
      "metadata": {
        "id": "oK1MMO2ZVb5-",
        "colab_type": "code",
        "colab": {}
      },
      "source": [
        "result = []\n",
        "for i in range(len(df.Death)-2):\n",
        "  x_input = array([df.Death[i], df.Death[i+1], df.Death[i+2]])\n",
        "  x_input = x_input.reshape((1, n_steps, n_features))\n",
        "  yhat = model.predict(x_input, verbose=0)\n",
        "  result.append(yhat[0][0])"
      ],
      "execution_count": 0,
      "outputs": []
    },
    {
      "cell_type": "code",
      "metadata": {
        "id": "7xFMjgczWQGT",
        "colab_type": "code",
        "colab": {
          "base_uri": "https://localhost:8080/",
          "height": 54
        },
        "outputId": "049f9cb4-b8cd-4272-f499-dcd5ad6d8054"
      },
      "source": [
        "print(result)"
      ],
      "execution_count": 53,
      "outputs": [
        {
          "output_type": "stream",
          "text": [
            "[42.8202, 56.596596, 81.94525, 130.41801, 132.32237, 170.60559, 221.11624, 260.8357, 340.76718, 427.78873, 495.14865, 561.9719, 636.7825, 715.84216, 804.84656, 903.63586, 1006.65955, 1106.1031, 1206.1766, 1315.4744, 1499.9598, 1685.3687, 1801.867, 1947.6318, 2074.9844, 2208.3477, 2348.261, 2493.1106, 2583.492, 2710.6006, 2808.978, 2942.254, 3050.7583, 3158.7231, 3228.081, 3290.5945, 3358.8828, 3430.0457, 3512.868, 3600.6897, 3700.3296, 3804.3604, 3921.6614, 4040.9001, 4222.241, 4439.274, 4710.776, 5038.737, 5319.9785, 5764.2915, 6299.524, 6952.593, 7647.21, 8470.774, 9375.891, 10462.207, 11826.888]\n"
          ],
          "name": "stdout"
        }
      ]
    },
    {
      "cell_type": "code",
      "metadata": {
        "id": "B0bekBjhXneZ",
        "colab_type": "code",
        "colab": {
          "base_uri": "https://localhost:8080/",
          "height": 556
        },
        "outputId": "71a164bb-1f29-45b9-8776-022b34633d99"
      },
      "source": [
        "plt.figure(figsize=(20,10))\n",
        "plt.plot(df.Death)\n",
        "plt.plot(result)\n",
        "plt.show()"
      ],
      "execution_count": 60,
      "outputs": [
        {
          "output_type": "display_data",
          "data": {
            "image/png": "[encoded data removed]",
            "text/plain": [
              "<Figure size 1440x720 with 1 Axes>"
            ]
          },
          "metadata": {
            "tags": []
          }
        }
      ]
    },
    {
      "cell_type": "code",
      "metadata": {
        "id": "ztuZzs06XzB6",
        "colab_type": "code",
        "colab": {}
      },
      "source": [
        ""
      ],
      "execution_count": 0,
      "outputs": []
    }
  ]
}